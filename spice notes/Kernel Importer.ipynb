{
 "cells": [
  {
   "cell_type": "code",
   "execution_count": 1,
   "id": "c771b4ef-f049-406b-a999-9c75b745a585",
   "metadata": {},
   "outputs": [],
   "source": [
    "#header\n",
    "import pathlib\n",
    "import spiceypy as spice"
   ]
  },
  {
   "cell_type": "code",
   "execution_count": 2,
   "id": "b606d766-7a8d-4a65-9ce1-90ea83d0a8b8",
   "metadata": {},
   "outputs": [
    {
     "data": {
      "text/plain": [
       "PosixPath('C:/Desktop/NASA-PY-Spice/New_Site/spk')"
      ]
     },
     "execution_count": 2,
     "metadata": {},
     "output_type": "execute_result"
    }
   ],
   "source": [
    "import pathlib\n",
    "kernels = pathlib.Path(\"C:/Desktop/NASA-PY-Spice/New_Site/spk\")\n",
    "kernels"
   ]
  },
  {
   "cell_type": "code",
   "execution_count": 3,
   "id": "85ca99b5-51be-4a7f-9b2b-42d26431b40a",
   "metadata": {},
   "outputs": [
    {
     "data": {
      "text/plain": [
       "PosixPath('/Users/kevinloaiza/Desktop/NASA-PY-Spice/New_Site/spk/981005_PLTEPH-DE405S.bsp')"
      ]
     },
     "execution_count": 3,
     "metadata": {},
     "output_type": "execute_result"
    }
   ],
   "source": [
    "k = pathlib.Path(\"/Users/kevinloaiza/Desktop/NASA-PY-Spice/New_Site/spk\")\n",
    "ad = k.iterdir()\n",
    "ak = list(ad)\n",
    "ak[0]"
   ]
  },
  {
   "cell_type": "code",
   "execution_count": 17,
   "id": "8e48f728-64ed-4cd2-9128-fdcf1d90b777",
   "metadata": {},
   "outputs": [],
   "source": [
    "# import os\n",
    "# print(os.getcwd())    "
   ]
  },
  {
   "cell_type": "code",
   "execution_count": 18,
   "id": "409477ba-9fe4-4132-9d1b-5cb64b1046ff",
   "metadata": {},
   "outputs": [],
   "source": [
    "new_file = open(\"/Users/kevinloaiza/Desktop/NASA-PY-Spice/New_Site/temp_loader.tm\", \"a\")"
   ]
  },
  {
   "cell_type": "code",
   "execution_count": 19,
   "id": "6831bedd-3d36-41c2-8c72-86f331d9841e",
   "metadata": {},
   "outputs": [
    {
     "data": {
      "text/plain": [
       "13"
      ]
     },
     "execution_count": 19,
     "metadata": {},
     "output_type": "execute_result"
    }
   ],
   "source": [
    "#write to file\n",
    "new_file.write(\"\\n append text\")"
   ]
  },
  {
   "cell_type": "code",
   "execution_count": 7,
   "id": "ba85d5a3-84fa-44c1-8007-7ffefd7fdb25",
   "metadata": {},
   "outputs": [],
   "source": [
    "def getBodiesFromSpiceKernels(kernels):\n",
    "    ids = []\n",
    "    size = 10000\n",
    "    idso = []\n",
    "    bodyList = []\n",
    "    for file in kernels:\n",
    "        try:\n",
    "            ids = spice.spkobj(kernel.getAbsolutePath(), size, idso)\n",
    "            for i in range(0, len(ids)):\n",
    "                body = spice.bodc2n(ids[i])\n",
    "                bodyList.append(body)\n",
    "        except SpiceExeption:\n",
    "            print(\"e1\")\n",
    "    return bodyList\n",
    "            \n",
    "    "
   ]
  },
  {
   "cell_type": "code",
   "execution_count": null,
   "id": "afc7dfea-291a-4584-a4c9-e7f41c7087b9",
   "metadata": {},
   "outputs": [],
   "source": []
  }
 ],
 "metadata": {
  "kernelspec": {
   "display_name": "Python 3 (ipykernel)",
   "language": "python",
   "name": "python3"
  },
  "language_info": {
   "codemirror_mode": {
    "name": "ipython",
    "version": 3
   },
   "file_extension": ".py",
   "mimetype": "text/x-python",
   "name": "python",
   "nbconvert_exporter": "python",
   "pygments_lexer": "ipython3",
   "version": "3.9.13"
  }
 },
 "nbformat": 4,
 "nbformat_minor": 5
}

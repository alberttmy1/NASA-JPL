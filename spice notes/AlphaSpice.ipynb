{
 "cells": [
  {
   "cell_type": "code",
   "execution_count": 26,
   "metadata": {},
   "outputs": [
    {
     "data": {
      "text/plain": [
       "'CSPICE_N0067'"
      ]
     },
     "execution_count": 26,
     "metadata": {},
     "output_type": "execute_result"
    }
   ],
   "source": [
    "import spiceypy as spice\n",
    "\n",
    "spice.tkvrsn('TOOLKIT')"
   ]
  },
  {
   "cell_type": "code",
   "execution_count": 37,
   "metadata": {},
   "outputs": [],
   "source": [
    "from __future__ import print_function\n",
    "import spiceypy as spice\n",
    "\n",
    "def main():\n",
    "    #user inputs file names\n",
    "    #f1 = input(\"Enter kernel file name\")\n",
    "    f1 = 'JupiterLoader.tm'\n",
    "    \n",
    "    #load kernels\n",
    "    spice.furnsh(f1)\n",
    "    \n",
    "    #ask for UTC time stamp then convert to TDB\n",
    "    timstr = input(\"Enter a UTC time\")\n",
    "    et = spice.str2et(timstr)\n",
    "    \n",
    "    #objects for observation\n",
    "    obj1 = input(\"Enter observer name\")\n",
    "    targ = input(\"Enter target name\")\n",
    "    \n",
    "    #position of observer relative to target within a frame\n",
    "    [lobs, time] = spice.spkpos(obj1, et, 'J2000', 'lt+s', targ)\n",
    "    \n",
    "    #longitude and latitude relative to the frame\n",
    "    #[r, lon, lat] = spice.reclat(lobs)S\n",
    "    \n",
    "    #find angular separation of observer position vector in degrees (needed)\n",
    "    #but you need frame ITRF93 \n",
    "    \n",
    "    #J2000 frame of reference will be used in order to translate data to the frontend\n",
    "    #vectors need to come from spice (so more data from c)\n",
    "    #get sun data and other planet deta default to timestamp\n",
    "    #sep = spice.dpr()*spice.vsep(lobs, _)\n",
    "    \n",
    "    #longitude and latitude relative to the frame\n",
    "    [r, lon, lat] = spice.reclat(lobs)\n",
    "\n",
    "    print( '\\n'\n",
    "       'Obj-Targ direction using low accuracy\\n'\n",
    "       'PCK and IAU_MOON frame:\\n'\n",
    "       'Earth lon (deg):        {0:15.6f}\\n'\n",
    "       'Earth lat (deg):        {1:15.6f}\\n'.format(\n",
    "           lon * spice.dpr(),\n",
    "           lat * spice.dpr() )  )\n",
    "\n",
    "    #velocity and position\n",
    "    \n",
    "    \n",
    "    #shouldn't have to recalculate all data of universe and shall be stored to kernel instead of recalling from spice\n",
    "    \n",
    "    "
   ]
  },
  {
   "cell_type": "code",
   "execution_count": 38,
   "metadata": {},
   "outputs": [
    {
     "name": "stdin",
     "output_type": "stream",
     "text": [
      "Enter a UTC time 2001 JAN 03 00:00:01\n",
      "Enter observer name JUPITER\n",
      "Enter target name CARME\n"
     ]
    },
    {
     "name": "stdout",
     "output_type": "stream",
     "text": [
      "\n",
      "Obj-Targ direction using low accuracy\n",
      "PCK and IAU_MOON frame:\n",
      "Earth lon (deg):            -178.683679\n",
      "Earth lat (deg):             -15.116505\n",
      "\n"
     ]
    }
   ],
   "source": [
    "main()"
   ]
  },
  {
   "cell_type": "code",
   "execution_count": null,
   "metadata": {},
   "outputs": [],
   "source": [
    "def main2():\n",
    "    #user inputs file names\n",
    "    #f1 = input(\"Enter kernel file name\")\n",
    "    f1 = 'JupiterLoader.tm'\n",
    "    \n",
    "    #load kernels\n",
    "    spice.furnsh(f1)\n",
    "    \n",
    "    #ask for UTC time stamp then convert to TDB\n",
    "    timstr = input(\"Enter a UTC time\")\n",
    "    et = spice.str2et(timstr)\n",
    "    \n",
    "    #objects for observation\n",
    "    obj1 = input(\"Enter observer name\")\n",
    "    targ = input(\"Enter target name\")\n",
    "    \n",
    "    #grabs position and velocity relative between object and target\n",
    "    [state, ltime] = spice.spkezr(obj1, et, 'J2000', 'lt+s', targ)\n",
    "    \n",
    "    print( '   Apparent state of '+obj1+' as seen '\n",
    "           'from '+targ+' in the J2000\\n'\n",
    "           '      frame (km, km/s):'              )\n",
    "\n",
    "    print( '      X = {:16.3f}'.format(state[0])       )\n",
    "    print( '      Y = {:16.3f}'.format(state[1])       )\n",
    "    print( '      Z = {:16.3f}'.format(state[2])       )\n",
    "    print( '     VX = {:16.3f}'.format(state[3])       )\n",
    "    print( '     VY = {:16.3f}'.format(state[4])       )\n",
    "    print( '     VZ = {:16.3f}'.format(state[5])       )\n",
    "    \n",
    "    \n",
    "    "
   ]
  }
 ],
 "metadata": {
  "kernelspec": {
   "display_name": "Python 3 (ipykernel)",
   "language": "python",
   "name": "python3"
  },
  "language_info": {
   "codemirror_mode": {
    "name": "ipython",
    "version": 3
   },
   "file_extension": ".py",
   "mimetype": "text/x-python",
   "name": "python",
   "nbconvert_exporter": "python",
   "pygments_lexer": "ipython3",
   "version": "3.9.13"
  }
 },
 "nbformat": 4,
 "nbformat_minor": 4
}
